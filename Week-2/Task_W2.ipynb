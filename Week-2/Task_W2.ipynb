{
  "nbformat": 4,
  "nbformat_minor": 0,
  "metadata": {
    "colab": {
      "provenance": [],
      "authorship_tag": "ABX9TyMW6oTZcvs87qBY3jfcGCAs",
      "include_colab_link": true
    },
    "kernelspec": {
      "name": "python3",
      "display_name": "Python 3"
    },
    "language_info": {
      "name": "python"
    }
  },
  "cells": [
    {
      "cell_type": "markdown",
      "metadata": {
        "id": "view-in-github",
        "colab_type": "text"
      },
      "source": [
        "<a href=\"https://colab.research.google.com/github/Ammar-Hashme/BWT-ML-DL-Track/blob/main/Week-2/Task_W2.ipynb\" target=\"_parent\"><img src=\"https://colab.research.google.com/assets/colab-badge.svg\" alt=\"Open In Colab\"/></a>"
      ]
    },
    {
      "cell_type": "markdown",
      "source": [
        "# Week-2 Task"
      ],
      "metadata": {
        "id": "lCPMa2mSVasp"
      }
    },
    {
      "cell_type": "markdown",
      "source": [
        "\n",
        "Write a code that will:\n",
        "1. Prompt the user to enter their name, age, email, and favorite number.\n",
        "2. Stores these inputs in a dictionary with appropriate keys.\n",
        "3. Validate the email format (contains \"@\" and \".\").\n",
        "4. Displays a message using these variables, formatted as: \"Hello [name], you are [age] years old, your email is [email], and your favorite number is [favorite number].\"\n"
      ],
      "metadata": {
        "id": "FGSCR7p7UHlV"
      }
    },
    {
      "cell_type": "markdown",
      "source": [
        "**Task_1** : This solution uses a dictionary to store user inputs, validates the email format, and displays a formatted message.\n",
        "\n"
      ],
      "metadata": {
        "id": "uBRJwxdkQx52"
      }
    },
    {
      "cell_type": "code",
      "source": [
        "def validate_email(email):\n",
        "    return '@' in email and '.' in email\n",
        "\n",
        "user_info = {}\n",
        "user_info['name'] = input(\"Enter your name: \")\n",
        "user_info['age'] = input(\"Enter your age: \")\n",
        "user_info['email'] = input(\"Enter your email: \")\n",
        "while not validate_email(user_info['email']):\n",
        "    user_info['email'] = input(\"Invalid email. Please enter a valid email: \")\n",
        "user_info['favorite_number'] = input(\"Enter your favorite number: \")\n",
        "\n",
        "print(f\"Hello {user_info['name']}, you are {user_info['age']} years old, your email is {user_info['email']}, and your favorite number is {user_info['favorite_number']}.\")"
      ],
      "metadata": {
        "colab": {
          "base_uri": "https://localhost:8080/"
        },
        "id": "l90_9t41RJjX",
        "outputId": "d4a5462c-3b49-4303-b723-00c19a558508"
      },
      "execution_count": 1,
      "outputs": [
        {
          "output_type": "stream",
          "name": "stdout",
          "text": [
            "Enter your name: Ammar\n",
            "Enter your age: 23\n",
            "Enter your email: ammar@abc.com\n",
            "Enter your favorite number: 7\n",
            "Hello Ammar, you are 23 years old, your email is ammar@abc.com, and your favorite number is 7.\n"
          ]
        }
      ]
    },
    {
      "cell_type": "markdown",
      "source": [
        "\n",
        "Write a code for a function `Is_even(number)` that will:\n",
        "1. Takes an integer as an input.\n",
        "2. Returns True if the number is even, otherwise False if the number is odd.\n",
        "3. Print whether the number was even or odd hint: use conditions"
      ],
      "metadata": {
        "id": "KNXa4wIrUcPB"
      }
    },
    {
      "cell_type": "markdown",
      "source": [
        "**Task_2** : This function takes an integer input, checks if it's even using the modulo operator, and returns True for even numbers, False for odd numbers."
      ],
      "metadata": {
        "id": "tLfJ7i0gRZVT"
      }
    },
    {
      "cell_type": "code",
      "source": [
        "def Is_even(number):\n",
        "    is_even = number % 2 == 0\n",
        "    print(f\"{number} is {'even' if is_even else 'odd'}.\")\n",
        "    return is_even\n",
        "\n",
        "# Test the function\n",
        "num = int(input(\"Enter a number: \"))\n",
        "result = Is_even(num)"
      ],
      "metadata": {
        "colab": {
          "base_uri": "https://localhost:8080/"
        },
        "id": "79r7oxB_Rmco",
        "outputId": "a6c7375b-ff9b-4232-a11c-2c09380b559e"
      },
      "execution_count": 2,
      "outputs": [
        {
          "output_type": "stream",
          "name": "stdout",
          "text": [
            "Enter a number: 77\n",
            "77 is odd.\n"
          ]
        }
      ]
    },
    {
      "cell_type": "markdown",
      "source": [
        "\n",
        "Write a function `convert_temperature(temp, scale)` that:\n",
        "1. Takes a temperature value and a scale (\"C\" for Celsius, \"F\" for Fahrenheit) as inputs.\n",
        "2. Converts the temperature to the other scale.\n",
        "3. Returns the converted temperature.\n",
        "4. Display the converted temperature.\n"
      ],
      "metadata": {
        "id": "F4CaNPY9UiVJ"
      }
    },
    {
      "cell_type": "markdown",
      "source": [
        "**Task_3** : This function converts temperatures between Celsius and Fahrenheit using the appropriate formulas."
      ],
      "metadata": {
        "id": "TPOA9hFTSBfW"
      }
    },
    {
      "cell_type": "code",
      "source": [
        "def convert_temperature(temp, scale):\n",
        "    if scale.upper() == 'C':\n",
        "        converted = (temp * 9/5) + 32\n",
        "        print(f\"{temp}°C is equal to {converted:.2f}°F\")\n",
        "    elif scale.upper() == 'F':\n",
        "        converted = (temp - 32) * 5/9\n",
        "        print(f\"{temp}°F is equal to {converted:.2f}°C\")\n",
        "    else:\n",
        "        print(\"Invalid scale. Use 'C' for Celsius or 'F' for Fahrenheit.\")\n",
        "        return None\n",
        "    return converted\n",
        "\n",
        "# Test the function\n",
        "temperature = float(input(\"Enter temperature: \"))\n",
        "scale = input(\"Enter scale (C or F): \")\n",
        "convert_temperature(temperature, scale)"
      ],
      "metadata": {
        "colab": {
          "base_uri": "https://localhost:8080/"
        },
        "id": "F_NuJWg1SITf",
        "outputId": "04f86bb5-9b40-4f9d-9060-7881dbc39f3d"
      },
      "execution_count": 3,
      "outputs": [
        {
          "output_type": "stream",
          "name": "stdout",
          "text": [
            "Enter temperature: 51\n",
            "Enter scale (C or F): C\n",
            "51.0°C is equal to 123.80°F\n"
          ]
        },
        {
          "output_type": "execute_result",
          "data": {
            "text/plain": [
              "123.8"
            ]
          },
          "metadata": {},
          "execution_count": 3
        }
      ]
    },
    {
      "cell_type": "markdown",
      "source": [
        "\n",
        "Write a code that will:\n",
        "1. Contains a function `find_max_min(numbers_list)` that takes a list of numbers and returns both the maximum and minimum numbers in the list.\n",
        "2. Prompts the user to enter 5 numbers, stores them in a list, and then uses the `find_max_min` function to find and display the maximum and minimum numbers.\n"
      ],
      "metadata": {
        "id": "OsxHEspnUoK2"
      }
    },
    {
      "cell_type": "markdown",
      "source": [
        "**Task_4** : This code uses a function to find the maximum and minimum values in a list, then prompts the user for input to test it.\n"
      ],
      "metadata": {
        "id": "s80xgiF3SXn2"
      }
    },
    {
      "cell_type": "code",
      "source": [
        "def find_max_min(numbers_list):\n",
        "    return max(numbers_list), min(numbers_list)\n",
        "\n",
        "numbers = []\n",
        "for i in range(5):\n",
        "    numbers.append(float(input(f\"Enter number {i+1}: \")))\n",
        "\n",
        "maximum, minimum = find_max_min(numbers)\n",
        "print(f\"Maximum: {maximum}\")\n",
        "print(f\"Minimum: {minimum}\")"
      ],
      "metadata": {
        "colab": {
          "base_uri": "https://localhost:8080/"
        },
        "id": "9Yl0OjswSwG2",
        "outputId": "590242f2-b2db-448f-eb78-fcc30f2011fe"
      },
      "execution_count": 4,
      "outputs": [
        {
          "output_type": "stream",
          "name": "stdout",
          "text": [
            "Enter number 1: 9\n",
            "Enter number 2: 5\n",
            "Enter number 3: 1\n",
            "Enter number 4: 3\n",
            "Enter number 5: 7\n",
            "Maximum: 9.0\n",
            "Minimum: 1.0\n"
          ]
        }
      ]
    },
    {
      "cell_type": "markdown",
      "source": [
        "\n",
        "Write a code that will:\n",
        "1. Prompt the user to enter details of 3 students: name, age, and grade.\n",
        "2. Stores these details in a list of tuples, with each tuple containing the name, age, and grade of a student.\n",
        "3. Convert this list of tuples into a dictionary with the student name as the key and the tuple (age, grade) as the value.\n",
        "4. Displays an appropriate output.\n"
      ],
      "metadata": {
        "id": "R9kcmz8HUuYy"
      }
    },
    {
      "cell_type": "markdown",
      "source": [
        "**Task 5** : This code stores student details in a list of tuples, then converts it to a dictionary using a dictionary comprehension."
      ],
      "metadata": {
        "id": "ioWFwTEbS66z"
      }
    },
    {
      "cell_type": "code",
      "source": [
        "students = []\n",
        "for i in range(3):\n",
        "    name = input(f\"Enter name of student {i+1}: \")\n",
        "    age = int(input(f\"Enter age of student {i+1}: \"))\n",
        "    grade = input(f\"Enter grade of student {i+1}: \")\n",
        "    students.append((name, age, grade))\n",
        "\n",
        "students_dict = {student[0]: (student[1], student[2]) for student in students}\n",
        "\n",
        "print(\"Student Dictionary:\")\n",
        "for name, (age, grade) in students_dict.items():\n",
        "    print(f\"{name}: Age - {age}, Grade - {grade}\")"
      ],
      "metadata": {
        "colab": {
          "base_uri": "https://localhost:8080/"
        },
        "id": "deXeM5gYS-rf",
        "outputId": "a235e9e8-b3c7-4a37-971b-ed8a380b1ca5"
      },
      "execution_count": 6,
      "outputs": [
        {
          "output_type": "stream",
          "name": "stdout",
          "text": [
            "Enter name of student 1: Ammar\n",
            "Enter age of student 1: 23\n",
            "Enter grade of student 1: 3.00\n",
            "Enter name of student 2: Ali\n",
            "Enter age of student 2: 21\n",
            "Enter grade of student 2: 4.00\n",
            "Enter name of student 3: Ahmed\n",
            "Enter age of student 3: 24\n",
            "Enter grade of student 3: 3.25\n",
            "Student Dictionary:\n",
            "Ammar: Age - 23, Grade - 3.00\n",
            "Ali: Age - 21, Grade - 4.00\n",
            "Ahmed: Age - 24, Grade - 3.25\n"
          ]
        }
      ]
    },
    {
      "cell_type": "markdown",
      "source": [
        "\n",
        "Write a code for function `update_inventory(inventory_dict, item, quantity)` that will:\n",
        "1. Take a dictionary where keys are item names and values are quantities, an item name, and a quantity to add or remove.\n",
        "2. Updates the inventory by adding or removing the specified quantity (use negative values for removal).\n",
        "3. Ensures that the quantity of any item does not go below zero.\n",
        "4. Returns the updated dictionary.\n",
        "\n",
        "Use this function to\n",
        "1. Initialize an inventory dictionary with at least 5 items.\n",
        "2. Prompt the user to update the inventory by adding or removing quantities of 3 items.\n",
        "3. Display the updated inventory.\n"
      ],
      "metadata": {
        "id": "pjLZsTCWUzMX"
      }
    },
    {
      "cell_type": "markdown",
      "source": [
        "**Task_6** : This function updates an inventory dictionary, ensuring quantities don't go below zero. It then prompts the user to update the inventory."
      ],
      "metadata": {
        "id": "AzRMkBAcTZM8"
      }
    },
    {
      "cell_type": "code",
      "source": [
        "def update_inventory(inventory_dict, item, quantity):\n",
        "    if item in inventory_dict:\n",
        "        new_quantity = max(0, inventory_dict[item] + quantity)\n",
        "        inventory_dict[item] = new_quantity\n",
        "    else:\n",
        "        inventory_dict[item] = max(0, quantity)\n",
        "    return inventory_dict\n",
        "\n",
        "inventory = {'apple': 10, 'banana': 15, 'orange': 20, 'grape': 25, 'mango': 30}\n",
        "\n",
        "print(\"Initial inventory:\", inventory)\n",
        "\n",
        "for i in range(3):\n",
        "    item = input(f\"Enter item {i+1} to update: \")\n",
        "    quantity = int(input(f\"Enter quantity to add/remove for {item}: \"))\n",
        "    inventory = update_inventory(inventory, item, quantity)\n",
        "\n",
        "print(\"Updated inventory:\", inventory)"
      ],
      "metadata": {
        "colab": {
          "base_uri": "https://localhost:8080/"
        },
        "id": "10K01v3BTBcT",
        "outputId": "d6d6c3db-be6c-48e4-825b-ed4f2d437067"
      },
      "execution_count": 7,
      "outputs": [
        {
          "output_type": "stream",
          "name": "stdout",
          "text": [
            "Initial inventory: {'apple': 10, 'banana': 15, 'orange': 20, 'grape': 25, 'mango': 30}\n",
            "Enter item 1 to update: apple\n",
            "Enter quantity to add/remove for apple: -3\n",
            "Enter item 2 to update: mango\n",
            "Enter quantity to add/remove for mango: 5\n",
            "Enter item 3 to update: grape\n",
            "Enter quantity to add/remove for grape: -8\n",
            "Updated inventory: {'apple': 7, 'banana': 15, 'orange': 20, 'grape': 17, 'mango': 35}\n"
          ]
        }
      ]
    }
  ]
}